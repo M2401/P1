{
 "cells": [
  {
   "cell_type": "markdown",
   "metadata": {},
   "source": [
    "# Задачи на строки"
   ]
  },
  {
   "cell_type": "markdown",
   "metadata": {},
   "source": [
    "**Задача 1.1** <br>\n",
    "Для данной строки удалите все пробелы. <br>\n",
    "**Задача 1.2** <br>\n",
    "Для той же строки удалите все пробелы кроме третьего. <br>"
   ]
  },
  {
   "cell_type": "code",
   "execution_count": 4,
   "metadata": {
    "ExecuteTime": {
     "end_time": "2021-01-03T20:44:19.809884Z",
     "start_time": "2021-01-03T20:44:19.806881Z"
    }
   },
   "outputs": [
    {
     "data": {
      "text/plain": [
       "'Немецкийромантизмдействовалнакласслучшеснотворного.'"
      ]
     },
     "execution_count": 4,
     "metadata": {},
     "output_type": "execute_result"
    }
   ],
   "source": [
    "s1 = 'Немецкий романтизм действовал на класс лучше снотворного.'\n",
    "#s2 = s1.replace(' ', '')\n",
    "#s2\n",
    "s2 = s1.split(' ')\n",
    "''.join(s2)\n"
   ]
  },
  {
   "cell_type": "code",
   "execution_count": 35,
   "metadata": {
    "ExecuteTime": {
     "end_time": "2021-01-03T20:44:19.947034Z",
     "start_time": "2021-01-03T20:44:19.812885Z"
    }
   },
   "outputs": [
    {
     "data": {
      "text/plain": [
       "'Немецкийромантизмдействовал накласслучшеснотворного.'"
      ]
     },
     "execution_count": 35,
     "metadata": {},
     "output_type": "execute_result"
    }
   ],
   "source": [
    "s1 = 'Немецкий романтизм действовал на класс лучше снотворного.'\n",
    "s2 = s1.split()\n",
    "s3 = ''.join([s for i, s in enumerate(s2) if i in range(0,3)])\n",
    "s4 = ''.join([s for i, s in enumerate(s2) if i in range(3, 7)])\n",
    "s5 = s3 + ' ' + s4\n",
    "s5\n"
   ]
  },
  {
   "cell_type": "code",
   "execution_count": 3,
   "metadata": {
    "ExecuteTime": {
     "end_time": "2021-01-03T20:44:20.082084Z",
     "start_time": "2021-01-03T20:44:19.948981Z"
    }
   },
   "outputs": [],
   "source": [
    "# Место для Вашего кода\n"
   ]
  },
  {
   "cell_type": "markdown",
   "metadata": {
    "ExecuteTime": {
     "end_time": "2021-01-03T20:05:00.907787Z",
     "start_time": "2021-01-03T20:05:00.902802Z"
    }
   },
   "source": [
    "**Задача 2.1** <br>\n",
    "Для данной строки удалите все буквы 'б'.<br>\n",
    "**Задача 2.2** <br>\n",
    "Для той же строки удалите первые две буквы 'б'."
   ]
  },
  {
   "cell_type": "code",
   "execution_count": 23,
   "metadata": {
    "ExecuteTime": {
     "end_time": "2021-01-03T20:44:20.215195Z",
     "start_time": "2021-01-03T20:44:20.084078Z"
    }
   },
   "outputs": [
    {
     "data": {
      "text/plain": [
       "'Куда он ежал, ах и сам не смог ы оъяснить.'"
      ]
     },
     "execution_count": 23,
     "metadata": {},
     "output_type": "execute_result"
    }
   ],
   "source": [
    "s2 = 'Куда он бежал, Бах и сам не смог бы объяснить.'\n",
    "''.join([s for i, s in enumerate(s2) if s!='б' and s!='Б'])"
   ]
  },
  {
   "cell_type": "code",
   "execution_count": 28,
   "metadata": {
    "ExecuteTime": {
     "end_time": "2021-01-03T20:44:20.374287Z",
     "start_time": "2021-01-03T20:44:20.217172Z"
    }
   },
   "outputs": [
    {
     "data": {
      "text/plain": [
       "'куда он ежал, ах и сам не смог бы объяснить.'"
      ]
     },
     "execution_count": 28,
     "metadata": {},
     "output_type": "execute_result"
    }
   ],
   "source": [
    "s2 = 'Куда он бежал, Бах и сам не смог бы объяснить.'\n",
    "s3 = s2.lower()\n",
    "s4 = s3.replace('б', '', 2)\n",
    "s4"
   ]
  },
  {
   "cell_type": "code",
   "execution_count": 6,
   "metadata": {
    "ExecuteTime": {
     "end_time": "2021-01-03T20:44:20.492369Z",
     "start_time": "2021-01-03T20:44:20.376283Z"
    }
   },
   "outputs": [],
   "source": [
    "# Место для Вашего кода\n"
   ]
  },
  {
   "cell_type": "markdown",
   "metadata": {},
   "source": [
    "**Задача 3** <br>\n",
    "Для данной строки удалите каждый 4ый символ."
   ]
  },
  {
   "cell_type": "code",
   "execution_count": 32,
   "metadata": {
    "ExecuteTime": {
     "end_time": "2021-01-03T20:44:20.636468Z",
     "start_time": "2021-01-03T20:44:20.494368Z"
    }
   },
   "outputs": [
    {
     "data": {
      "text/plain": [
       "'Тотже амы язк вругначналоткзывть озяну,кога Бх прехдилна иалкт  раговрахс оносльчнам.'"
      ]
     },
     "execution_count": 32,
     "metadata": {},
     "output_type": "execute_result"
    }
   ],
   "source": [
    "s3 = 'Тот же самый язык вдруг начинал отказывать хозяину, когда Бах переходил на диалект в разговорах с односельчанами.'\n",
    "''.join(s for i, s in enumerate(s3) if (i+1)%4 != 0)"
   ]
  },
  {
   "cell_type": "code",
   "execution_count": 8,
   "metadata": {
    "ExecuteTime": {
     "end_time": "2021-01-03T20:44:20.806588Z",
     "start_time": "2021-01-03T20:44:20.638471Z"
    }
   },
   "outputs": [],
   "source": [
    "# Место для Вашего кода\n"
   ]
  },
  {
   "cell_type": "markdown",
   "metadata": {},
   "source": [
    "**Задача 4** <br>\n",
    "Напишите лямбда-функцию для удаления всех запятых и букв 'o' из строки. Проверьте ее на данной строке. <br>\n",
    "Попробуйте написать эту функцию двумя способами."
   ]
  },
  {
   "cell_type": "code",
   "execution_count": 9,
   "metadata": {
    "ExecuteTime": {
     "end_time": "2021-01-03T20:44:21.002746Z",
     "start_time": "2021-01-03T20:44:20.809592Z"
    }
   },
   "outputs": [],
   "source": [
    "s4 = 'Тот же самый язык вдруг начинал отказывать хозяину, когда Бах переходил на диалект в разговорах с односельчанами.'"
   ]
  },
  {
   "cell_type": "code",
   "execution_count": 40,
   "metadata": {
    "ExecuteTime": {
     "end_time": "2021-01-03T20:44:21.202885Z",
     "start_time": "2021-01-03T20:44:21.004728Z"
    }
   },
   "outputs": [
    {
     "data": {
      "text/plain": [
       "'Тт же самый язык вдруг начинал тказывать хзяину кгда Бах перехдил на диалект в разгврах с днсельчанами.'"
      ]
     },
     "execution_count": 40,
     "metadata": {},
     "output_type": "execute_result"
    }
   ],
   "source": [
    "s4 = 'Тот же самый язык вдруг начинал отказывать хозяину, когда Бах переходил на диалект в разговорах с односельчанами.'\n",
    "d = s4.replace(',', '')\n",
    "e = lambda d: d.replace('о', '')\n",
    "e(d)"
   ]
  },
  {
   "cell_type": "code",
   "execution_count": 11,
   "metadata": {
    "ExecuteTime": {
     "end_time": "2021-01-03T20:44:21.340982Z",
     "start_time": "2021-01-03T20:44:21.204870Z"
    }
   },
   "outputs": [],
   "source": [
    "# Место для Вашего кода\n"
   ]
  },
  {
   "cell_type": "markdown",
   "metadata": {},
   "source": [
    "# Задачи на списки"
   ]
  },
  {
   "cell_type": "markdown",
   "metadata": {},
   "source": [
    "**Задача 5** <br>\n",
    "Оставьте в списке только те числа, остаток от деления которых на 3 равен 1. <br>"
   ]
  },
  {
   "cell_type": "code",
   "execution_count": 12,
   "metadata": {
    "ExecuteTime": {
     "end_time": "2021-01-03T20:44:21.495128Z",
     "start_time": "2021-01-03T20:44:21.342967Z"
    }
   },
   "outputs": [],
   "source": [
    "l1 = [13, 2, 4, 1, 0, 5, 7, 3, 14, 8, 10, 6, 12, 11, 9, 15]"
   ]
  },
  {
   "cell_type": "code",
   "execution_count": 42,
   "metadata": {
    "ExecuteTime": {
     "end_time": "2021-01-03T20:44:21.624179Z",
     "start_time": "2021-01-03T20:44:21.497075Z"
    }
   },
   "outputs": [
    {
     "name": "stdout",
     "output_type": "stream",
     "text": [
      "[13, 4, 1, 7, 10]\n"
     ]
    }
   ],
   "source": [
    "# Место для Вашего кода\n",
    "l1 = [13, 2, 4, 1, 0, 5, 7, 3, 14, 8, 10, 6, 12, 11, 9, 15]\n",
    "b = []\n",
    "for i in l1:\n",
    "    if i%3 == 1:\n",
    "        b.append(i)\n",
    "print(b)\n",
    "        \n"
   ]
  },
  {
   "cell_type": "markdown",
   "metadata": {},
   "source": [
    "**Задача 6** <br>\n",
    "Напишите функцию, которая переставляет минимальный и максимальный элемент местами. <br>\n",
    "Проверьте её на данном списке."
   ]
  },
  {
   "cell_type": "code",
   "execution_count": 14,
   "metadata": {
    "ExecuteTime": {
     "end_time": "2021-01-03T20:44:21.750307Z",
     "start_time": "2021-01-03T20:44:21.626166Z"
    }
   },
   "outputs": [],
   "source": [
    "l2 = [4, -10.5, 8.7, 3.2, 5, 0, -9]"
   ]
  },
  {
   "cell_type": "code",
   "execution_count": 61,
   "metadata": {
    "ExecuteTime": {
     "end_time": "2021-01-03T20:44:21.927380Z",
     "start_time": "2021-01-03T20:44:21.752256Z"
    }
   },
   "outputs": [
    {
     "data": {
      "text/plain": [
       "[4, 8.7, -10.5, 3.2, 5, 0, -9]"
      ]
     },
     "execution_count": 61,
     "metadata": {},
     "output_type": "execute_result"
    }
   ],
   "source": [
    "l2 = [4, -10.5, 8.7, 3.2, 5, 0, -9]\n",
    "\n",
    "max = -11\n",
    "for i in range(len(l2)):\n",
    "    if l2[i] > max:\n",
    "        max = l2[i]\n",
    "        i_max = i\n",
    "\n",
    "\n",
    "min = 11\n",
    "for j in range(len(l2)):\n",
    "    if l2[j] < min:\n",
    "        min = l2[j]\n",
    "        j_min = j\n",
    "\n",
    "\n",
    "def change(l2):\n",
    "    t = l2[i_max]\n",
    "    l2[i_max] = l2[j_min]\n",
    "    l2[j_min] = t\n",
    "    return l2\n",
    "    \n",
    "\n",
    "change(l2)\n",
    "\n"
   ]
  },
  {
   "cell_type": "markdown",
   "metadata": {},
   "source": [
    "**Задача 7** <br>\n",
    "Петя перешёл в другую школу. На уроке физкультуры ему понадобилось определить своё место в строю. Помогите ему это сделать.\n",
    "Напишите функцию, которая получает на вход невозрастающую последовательность натуральных чисел, означающих рост каждого человека в строю, и рост Пети.\n",
    "\n",
    "Выведите номер, под которым Петя должен встать в строй. Если в строю есть люди с одинаковым ростом, таким же, как у Пети, то он должен встать после них(справа).\n",
    "\n",
    "Для проверки воспользуйтесь данным списком и ростом Пети."
   ]
  },
  {
   "cell_type": "code",
   "execution_count": 90,
   "metadata": {
    "ExecuteTime": {
     "end_time": "2021-01-03T20:44:22.061527Z",
     "start_time": "2021-01-03T20:44:21.929382Z"
    }
   },
   "outputs": [
    {
     "name": "stdout",
     "output_type": "stream",
     "text": [
      "[165, 163, 160, 160, 157, 157, 157, 155, 154]\n",
      "7\n"
     ]
    }
   ],
   "source": [
    "l3 = [165, 163, 160, 160, 157, 157, 155, 154]\n",
    "petya_height = 157\n",
    "l3.append(petya_height)\n",
    "l3.sort(reverse = True)\n",
    "print(l3)\n",
    "for i in range(len(l3)):\n",
    "    if petya_height == l3[i]:\n",
    "        g = i+1\n",
    "\n",
    "print(g)\n",
    "        "
   ]
  },
  {
   "cell_type": "code",
   "execution_count": 17,
   "metadata": {
    "ExecuteTime": {
     "end_time": "2021-01-03T20:44:22.252613Z",
     "start_time": "2021-01-03T20:44:22.063476Z"
    }
   },
   "outputs": [],
   "source": [
    "# Место для Вашего кода\n"
   ]
  }
 ],
 "metadata": {
  "kernelspec": {
   "display_name": "Python 3",
   "language": "python",
   "name": "python3"
  },
  "language_info": {
   "codemirror_mode": {
    "name": "ipython",
    "version": 3
   },
   "file_extension": ".py",
   "mimetype": "text/x-python",
   "name": "python",
   "nbconvert_exporter": "python",
   "pygments_lexer": "ipython3",
   "version": "3.8.5"
  },
  "toc": {
   "base_numbering": 1,
   "nav_menu": {},
   "number_sections": true,
   "sideBar": true,
   "skip_h1_title": false,
   "title_cell": "Table of Contents",
   "title_sidebar": "Contents",
   "toc_cell": false,
   "toc_position": {},
   "toc_section_display": true,
   "toc_window_display": false
  }
 },
 "nbformat": 4,
 "nbformat_minor": 4
}
