{
 "cells": [
  {
   "cell_type": "markdown",
   "metadata": {},
   "source": [
    "### Запустите ячейку ниже, чтобы считать данные."
   ]
  },
  {
   "cell_type": "code",
   "execution_count": 2,
   "metadata": {},
   "outputs": [],
   "source": [
    "import json\n",
    "with open('students50dict.json', 'r') as f:\n",
    "    students = json.load(f)"
   ]
  },
  {
   "cell_type": "markdown",
   "metadata": {},
   "source": [
    "### В переменной students сохранена выборка о студентах, которая представляет из себя словарь, ключами которого являются id студента(строка из цифр), а значеними - словари. Каждый вложенный словарь  содержит данные о студенте. Ключами словаря являются:\n",
    "    - пол студента 'gender'\n",
    "    - раса 'race/ethnicity'\n",
    "    - уровень образования 'parental level of education'\n",
    "    - вид ланча принимаемый учащимся 'lunch'\n",
    "    - подготовка к тестированию 'test preparation course'\n",
    "    - оценки по математике, чтению и письму 'math/reading/writing score'"
   ]
  },
  {
   "cell_type": "code",
   "execution_count": 14,
   "metadata": {},
   "outputs": [
    {
     "data": {
      "text/plain": [
       "{'34': {'gender': 'female',\n",
       "  'race/ethnicity': 'group B',\n",
       "  'parental level of education': \"bachelor's degree\",\n",
       "  'lunch': 'standard',\n",
       "  'test preparation course': 'none',\n",
       "  'math score': 72,\n",
       "  'reading score': 72,\n",
       "  'writing score': 74},\n",
       " '15': {'gender': 'female',\n",
       "  'race/ethnicity': 'group C',\n",
       "  'parental level of education': 'some college',\n",
       "  'lunch': 'standard',\n",
       "  'test preparation course': 'completed',\n",
       "  'math score': 69,\n",
       "  'reading score': 90,\n",
       "  'writing score': 88},\n",
       " '39': {'gender': 'female',\n",
       "  'race/ethnicity': 'group B',\n",
       "  'parental level of education': \"master's degree\",\n",
       "  'lunch': 'standard',\n",
       "  'test preparation course': 'none',\n",
       "  'math score': 90,\n",
       "  'reading score': 95,\n",
       "  'writing score': 93},\n",
       " '38': {'gender': 'male',\n",
       "  'race/ethnicity': 'group A',\n",
       "  'parental level of education': \"associate's degree\",\n",
       "  'lunch': 'free/reduced',\n",
       "  'test preparation course': 'none',\n",
       "  'math score': 47,\n",
       "  'reading score': 57,\n",
       "  'writing score': 44},\n",
       " '41': {'gender': 'male',\n",
       "  'race/ethnicity': 'group C',\n",
       "  'parental level of education': 'some college',\n",
       "  'lunch': 'standard',\n",
       "  'test preparation course': 'none',\n",
       "  'math score': 76,\n",
       "  'reading score': 78,\n",
       "  'writing score': 75},\n",
       " '23': {'gender': 'female',\n",
       "  'race/ethnicity': 'group B',\n",
       "  'parental level of education': \"associate's degree\",\n",
       "  'lunch': 'standard',\n",
       "  'test preparation course': 'none',\n",
       "  'math score': 71,\n",
       "  'reading score': 83,\n",
       "  'writing score': 78},\n",
       " '32': {'gender': 'female',\n",
       "  'race/ethnicity': 'group B',\n",
       "  'parental level of education': 'some college',\n",
       "  'lunch': 'standard',\n",
       "  'test preparation course': 'completed',\n",
       "  'math score': 88,\n",
       "  'reading score': 95,\n",
       "  'writing score': 92},\n",
       " '49': {'gender': 'male',\n",
       "  'race/ethnicity': 'group B',\n",
       "  'parental level of education': 'some college',\n",
       "  'lunch': 'free/reduced',\n",
       "  'test preparation course': 'none',\n",
       "  'math score': 40,\n",
       "  'reading score': 43,\n",
       "  'writing score': 39},\n",
       " '26': {'gender': 'male',\n",
       "  'race/ethnicity': 'group D',\n",
       "  'parental level of education': 'high school',\n",
       "  'lunch': 'free/reduced',\n",
       "  'test preparation course': 'completed',\n",
       "  'math score': 64,\n",
       "  'reading score': 64,\n",
       "  'writing score': 67},\n",
       " '21': {'gender': 'female',\n",
       "  'race/ethnicity': 'group B',\n",
       "  'parental level of education': 'high school',\n",
       "  'lunch': 'free/reduced',\n",
       "  'test preparation course': 'none',\n",
       "  'math score': 38,\n",
       "  'reading score': 60,\n",
       "  'writing score': 50},\n",
       " '6': {'gender': 'male',\n",
       "  'race/ethnicity': 'group C',\n",
       "  'parental level of education': \"associate's degree\",\n",
       "  'lunch': 'standard',\n",
       "  'test preparation course': 'none',\n",
       "  'math score': 58,\n",
       "  'reading score': 54,\n",
       "  'writing score': 52},\n",
       " '8': {'gender': 'male',\n",
       "  'race/ethnicity': 'group D',\n",
       "  'parental level of education': \"associate's degree\",\n",
       "  'lunch': 'standard',\n",
       "  'test preparation course': 'none',\n",
       "  'math score': 40,\n",
       "  'reading score': 52,\n",
       "  'writing score': 43},\n",
       " '30': {'gender': 'female',\n",
       "  'race/ethnicity': 'group B',\n",
       "  'parental level of education': 'high school',\n",
       "  'lunch': 'standard',\n",
       "  'test preparation course': 'none',\n",
       "  'math score': 65,\n",
       "  'reading score': 81,\n",
       "  'writing score': 73},\n",
       " '24': {'gender': 'male',\n",
       "  'race/ethnicity': 'group A',\n",
       "  'parental level of education': 'some college',\n",
       "  'lunch': 'standard',\n",
       "  'test preparation course': 'completed',\n",
       "  'math score': 78,\n",
       "  'reading score': 72,\n",
       "  'writing score': 70},\n",
       " '13': {'gender': 'female',\n",
       "  'race/ethnicity': 'group A',\n",
       "  'parental level of education': \"master's degree\",\n",
       "  'lunch': 'standard',\n",
       "  'test preparation course': 'none',\n",
       "  'math score': 50,\n",
       "  'reading score': 53,\n",
       "  'writing score': 58},\n",
       " '19': {'gender': 'female',\n",
       "  'race/ethnicity': 'group C',\n",
       "  'parental level of education': 'some high school',\n",
       "  'lunch': 'standard',\n",
       "  'test preparation course': 'none',\n",
       "  'math score': 69,\n",
       "  'reading score': 75,\n",
       "  'writing score': 78},\n",
       " '12': {'gender': 'male',\n",
       "  'race/ethnicity': 'group C',\n",
       "  'parental level of education': 'high school',\n",
       "  'lunch': 'standard',\n",
       "  'test preparation course': 'none',\n",
       "  'math score': 88,\n",
       "  'reading score': 89,\n",
       "  'writing score': 86},\n",
       " '42': {'gender': 'female',\n",
       "  'race/ethnicity': 'group B',\n",
       "  'parental level of education': 'some high school',\n",
       "  'lunch': 'free/reduced',\n",
       "  'test preparation course': 'none',\n",
       "  'math score': 18,\n",
       "  'reading score': 32,\n",
       "  'writing score': 28},\n",
       " '10': {'gender': 'male',\n",
       "  'race/ethnicity': 'group C',\n",
       "  'parental level of education': \"master's degree\",\n",
       "  'lunch': 'free/reduced',\n",
       "  'test preparation course': 'completed',\n",
       "  'math score': 46,\n",
       "  'reading score': 42,\n",
       "  'writing score': 46},\n",
       " '35': {'gender': 'female',\n",
       "  'race/ethnicity': 'group C',\n",
       "  'parental level of education': \"associate's degree\",\n",
       "  'lunch': 'free/reduced',\n",
       "  'test preparation course': 'none',\n",
       "  'math score': 54,\n",
       "  'reading score': 58,\n",
       "  'writing score': 61},\n",
       " '37': {'gender': 'male',\n",
       "  'race/ethnicity': 'group D',\n",
       "  'parental level of education': 'high school',\n",
       "  'lunch': 'standard',\n",
       "  'test preparation course': 'none',\n",
       "  'math score': 66,\n",
       "  'reading score': 69,\n",
       "  'writing score': 63},\n",
       " '28': {'gender': 'female',\n",
       "  'race/ethnicity': 'group B',\n",
       "  'parental level of education': 'some college',\n",
       "  'lunch': 'free/reduced',\n",
       "  'test preparation course': 'completed',\n",
       "  'math score': 65,\n",
       "  'reading score': 75,\n",
       "  'writing score': 70},\n",
       " '47': {'gender': 'male',\n",
       "  'race/ethnicity': 'group D',\n",
       "  'parental level of education': 'some college',\n",
       "  'lunch': 'standard',\n",
       "  'test preparation course': 'none',\n",
       "  'math score': 44,\n",
       "  'reading score': 54,\n",
       "  'writing score': 53},\n",
       " '40': {'gender': 'female',\n",
       "  'race/ethnicity': 'group C',\n",
       "  'parental level of education': 'some high school',\n",
       "  'lunch': 'standard',\n",
       "  'test preparation course': 'none',\n",
       "  'math score': 69,\n",
       "  'reading score': 73,\n",
       "  'writing score': 73},\n",
       " '31': {'gender': 'male',\n",
       "  'race/ethnicity': 'group D',\n",
       "  'parental level of education': \"bachelor's degree\",\n",
       "  'lunch': 'free/reduced',\n",
       "  'test preparation course': 'completed',\n",
       "  'math score': 74,\n",
       "  'reading score': 71,\n",
       "  'writing score': 80},\n",
       " '20': {'gender': 'male',\n",
       "  'race/ethnicity': 'group A',\n",
       "  'parental level of education': \"master's degree\",\n",
       "  'lunch': 'free/reduced',\n",
       "  'test preparation course': 'none',\n",
       "  'math score': 73,\n",
       "  'reading score': 74,\n",
       "  'writing score': 72},\n",
       " '17': {'gender': 'male',\n",
       "  'race/ethnicity': 'group B',\n",
       "  'parental level of education': 'some college',\n",
       "  'lunch': 'standard',\n",
       "  'test preparation course': 'none',\n",
       "  'math score': 69,\n",
       "  'reading score': 54,\n",
       "  'writing score': 55},\n",
       " '1': {'gender': 'female',\n",
       "  'race/ethnicity': 'group C',\n",
       "  'parental level of education': \"bachelor's degree\",\n",
       "  'lunch': 'standard',\n",
       "  'test preparation course': 'none',\n",
       "  'math score': 67,\n",
       "  'reading score': 69,\n",
       "  'writing score': 75},\n",
       " '33': {'gender': 'male',\n",
       "  'race/ethnicity': 'group C',\n",
       "  'parental level of education': 'high school',\n",
       "  'lunch': 'standard',\n",
       "  'test preparation course': 'none',\n",
       "  'math score': 70,\n",
       "  'reading score': 70,\n",
       "  'writing score': 65},\n",
       " '48': {'gender': 'female',\n",
       "  'race/ethnicity': 'group D',\n",
       "  'parental level of education': \"master's degree\",\n",
       "  'lunch': 'standard',\n",
       "  'test preparation course': 'none',\n",
       "  'math score': 62,\n",
       "  'reading score': 70,\n",
       "  'writing score': 75},\n",
       " '16': {'gender': 'female',\n",
       "  'race/ethnicity': 'group D',\n",
       "  'parental level of education': 'some college',\n",
       "  'lunch': 'standard',\n",
       "  'test preparation course': 'none',\n",
       "  'math score': 69,\n",
       "  'reading score': 74,\n",
       "  'writing score': 74},\n",
       " '29': {'gender': 'female',\n",
       "  'race/ethnicity': 'group B',\n",
       "  'parental level of education': 'some college',\n",
       "  'lunch': 'standard',\n",
       "  'test preparation course': 'none',\n",
       "  'math score': 63,\n",
       "  'reading score': 65,\n",
       "  'writing score': 61},\n",
       " '0': {'gender': 'female',\n",
       "  'race/ethnicity': 'group E',\n",
       "  'parental level of education': \"master's degree\",\n",
       "  'lunch': 'free/reduced',\n",
       "  'test preparation course': 'none',\n",
       "  'math score': 56,\n",
       "  'reading score': 72,\n",
       "  'writing score': 65},\n",
       " '46': {'gender': 'male',\n",
       "  'race/ethnicity': 'group D',\n",
       "  'parental level of education': 'some college',\n",
       "  'lunch': 'standard',\n",
       "  'test preparation course': 'none',\n",
       "  'math score': 40,\n",
       "  'reading score': 42,\n",
       "  'writing score': 38},\n",
       " '36': {'gender': 'male',\n",
       "  'race/ethnicity': 'group E',\n",
       "  'parental level of education': 'some college',\n",
       "  'lunch': 'standard',\n",
       "  'test preparation course': 'none',\n",
       "  'math score': 97,\n",
       "  'reading score': 87,\n",
       "  'writing score': 82},\n",
       " '27': {'gender': 'male',\n",
       "  'race/ethnicity': 'group E',\n",
       "  'parental level of education': \"associate's degree\",\n",
       "  'lunch': 'standard',\n",
       "  'test preparation course': 'completed',\n",
       "  'math score': 81,\n",
       "  'reading score': 81,\n",
       "  'writing score': 79},\n",
       " '44': {'gender': 'female',\n",
       "  'race/ethnicity': 'group D',\n",
       "  'parental level of education': \"associate's degree\",\n",
       "  'lunch': 'standard',\n",
       "  'test preparation course': 'none',\n",
       "  'math score': 74,\n",
       "  'reading score': 81,\n",
       "  'writing score': 83},\n",
       " '25': {'gender': 'female',\n",
       "  'race/ethnicity': 'group D',\n",
       "  'parental level of education': 'some high school',\n",
       "  'lunch': 'free/reduced',\n",
       "  'test preparation course': 'none',\n",
       "  'math score': 50,\n",
       "  'reading score': 64,\n",
       "  'writing score': 59},\n",
       " '22': {'gender': 'female',\n",
       "  'race/ethnicity': 'group D',\n",
       "  'parental level of education': \"associate's degree\",\n",
       "  'lunch': 'free/reduced',\n",
       "  'test preparation course': 'completed',\n",
       "  'math score': 75,\n",
       "  'reading score': 90,\n",
       "  'writing score': 88},\n",
       " '4': {'gender': 'male',\n",
       "  'race/ethnicity': 'group B',\n",
       "  'parental level of education': \"associate's degree\",\n",
       "  'lunch': 'free/reduced',\n",
       "  'test preparation course': 'none',\n",
       "  'math score': 57,\n",
       "  'reading score': 56,\n",
       "  'writing score': 57},\n",
       " '45': {'gender': 'male',\n",
       "  'race/ethnicity': 'group C',\n",
       "  'parental level of education': \"associate's degree\",\n",
       "  'lunch': 'free/reduced',\n",
       "  'test preparation course': 'none',\n",
       "  'math score': 55,\n",
       "  'reading score': 61,\n",
       "  'writing score': 54},\n",
       " '43': {'gender': 'female',\n",
       "  'race/ethnicity': 'group C',\n",
       "  'parental level of education': \"associate's degree\",\n",
       "  'lunch': 'standard',\n",
       "  'test preparation course': 'none',\n",
       "  'math score': 58,\n",
       "  'reading score': 73,\n",
       "  'writing score': 68},\n",
       " '3': {'gender': 'female',\n",
       "  'race/ethnicity': 'group B',\n",
       "  'parental level of education': \"associate's degree\",\n",
       "  'lunch': 'standard',\n",
       "  'test preparation course': 'none',\n",
       "  'math score': 53,\n",
       "  'reading score': 58,\n",
       "  'writing score': 65},\n",
       " '7': {'gender': 'male',\n",
       "  'race/ethnicity': 'group B',\n",
       "  'parental level of education': 'some college',\n",
       "  'lunch': 'free/reduced',\n",
       "  'test preparation course': 'completed',\n",
       "  'math score': 59,\n",
       "  'reading score': 65,\n",
       "  'writing score': 66},\n",
       " '18': {'gender': 'female',\n",
       "  'race/ethnicity': 'group E',\n",
       "  'parental level of education': \"associate's degree\",\n",
       "  'lunch': 'free/reduced',\n",
       "  'test preparation course': 'none',\n",
       "  'math score': 50,\n",
       "  'reading score': 56,\n",
       "  'writing score': 54},\n",
       " '9': {'gender': 'male',\n",
       "  'race/ethnicity': 'group B',\n",
       "  'parental level of education': \"associate's degree\",\n",
       "  'lunch': 'standard',\n",
       "  'test preparation course': 'none',\n",
       "  'math score': 65,\n",
       "  'reading score': 54,\n",
       "  'writing score': 57},\n",
       " '14': {'gender': 'female',\n",
       "  'race/ethnicity': 'group A',\n",
       "  'parental level of education': \"associate's degree\",\n",
       "  'lunch': 'standard',\n",
       "  'test preparation course': 'completed',\n",
       "  'math score': 55,\n",
       "  'reading score': 65,\n",
       "  'writing score': 62},\n",
       " '2': {'gender': 'female',\n",
       "  'race/ethnicity': 'group C',\n",
       "  'parental level of education': 'high school',\n",
       "  'lunch': 'standard',\n",
       "  'test preparation course': 'none',\n",
       "  'math score': 66,\n",
       "  'reading score': 71,\n",
       "  'writing score': 76},\n",
       " '5': {'gender': 'female',\n",
       "  'race/ethnicity': 'group D',\n",
       "  'parental level of education': \"associate's degree\",\n",
       "  'lunch': 'free/reduced',\n",
       "  'test preparation course': 'completed',\n",
       "  'math score': 57,\n",
       "  'reading score': 74,\n",
       "  'writing score': 76},\n",
       " '11': {'gender': 'male',\n",
       "  'race/ethnicity': 'group C',\n",
       "  'parental level of education': 'high school',\n",
       "  'lunch': 'standard',\n",
       "  'test preparation course': 'completed',\n",
       "  'math score': 82,\n",
       "  'reading score': 84,\n",
       "  'writing score': 82}}"
      ]
     },
     "execution_count": 14,
     "metadata": {},
     "output_type": "execute_result"
    }
   ],
   "source": [
    "students"
   ]
  },
  {
   "cell_type": "markdown",
   "metadata": {},
   "source": [
    "#### Пример получения данных о студенте с id = '34'."
   ]
  },
  {
   "cell_type": "code",
   "execution_count": 13,
   "metadata": {},
   "outputs": [
    {
     "data": {
      "text/plain": [
       "{'gender': 'female',\n",
       " 'race/ethnicity': 'group B',\n",
       " 'parental level of education': \"bachelor's degree\",\n",
       " 'lunch': 'standard',\n",
       " 'test preparation course': 'none',\n",
       " 'math score': 72,\n",
       " 'reading score': 72,\n",
       " 'writing score': 74}"
      ]
     },
     "execution_count": 13,
     "metadata": {},
     "output_type": "execute_result"
    }
   ],
   "source": [
    "students['34']"
   ]
  },
  {
   "cell_type": "markdown",
   "metadata": {},
   "source": [
    "### Ответить на следующие вопросы"
   ]
  },
  {
   "cell_type": "markdown",
   "metadata": {},
   "source": [
    "#### 1. Сколько студентов в выборке?"
   ]
  },
  {
   "cell_type": "code",
   "execution_count": 4,
   "metadata": {},
   "outputs": [
    {
     "data": {
      "text/plain": [
       "50"
      ]
     },
     "execution_count": 4,
     "metadata": {},
     "output_type": "execute_result"
    }
   ],
   "source": [
    "len(students.keys())"
   ]
  },
  {
   "cell_type": "markdown",
   "metadata": {},
   "source": [
    "#### 2.Какой вид ланча получает студент с id = '6'?"
   ]
  },
  {
   "cell_type": "code",
   "execution_count": 5,
   "metadata": {},
   "outputs": [
    {
     "data": {
      "text/plain": [
       "'standard'"
      ]
     },
     "execution_count": 5,
     "metadata": {},
     "output_type": "execute_result"
    }
   ],
   "source": [
    "students['6']['lunch']"
   ]
  },
  {
   "cell_type": "markdown",
   "metadata": {},
   "source": [
    "#### 3. Сколько из них девочек(female) и сколько мальчиков?"
   ]
  },
  {
   "cell_type": "code",
   "execution_count": 9,
   "metadata": {},
   "outputs": [
    {
     "name": "stdout",
     "output_type": "stream",
     "text": [
      "23\n",
      "27\n"
     ]
    }
   ],
   "source": [
    "m = 0\n",
    "f = 0\n",
    "for key in students:\n",
    "    if students[key]['gender'] == 'male':\n",
    "        m = m+1\n",
    "    else:\n",
    "        f = f + 1\n",
    "print(m)\n",
    "print(f)\n",
    "    "
   ]
  },
  {
   "cell_type": "markdown",
   "metadata": {},
   "source": [
    "#### 4. Укажите id студента, у которого наибольший бал по математике?"
   ]
  },
  {
   "cell_type": "code",
   "execution_count": 12,
   "metadata": {},
   "outputs": [
    {
     "name": "stdout",
     "output_type": "stream",
     "text": [
      "{'gender': 'male', 'race/ethnicity': 'group E', 'parental level of education': 'some college', 'lunch': 'standard', 'test preparation course': 'none', 'math score': 97, 'reading score': 87, 'writing score': 82} 36\n"
     ]
    }
   ],
   "source": [
    "ma = 0\n",
    "students_id = 0\n",
    "for key in students:\n",
    "    if students[key]['math score'] > ma:\n",
    "        ma = students[key]['math score']\n",
    "        students_id = key\n",
    "print(students[students_id], students_id)"
   ]
  },
  {
   "cell_type": "markdown",
   "metadata": {},
   "source": [
    "#### 5. Какой он расовой принадлежности? "
   ]
  },
  {
   "cell_type": "code",
   "execution_count": 13,
   "metadata": {},
   "outputs": [
    {
     "name": "stdout",
     "output_type": "stream",
     "text": [
      "group E\n"
     ]
    }
   ],
   "source": [
    "print(students[students_id]['race/ethnicity'])"
   ]
  },
  {
   "cell_type": "markdown",
   "metadata": {},
   "source": [
    "#### 6. Каковы средние оценки по каждому предмету?"
   ]
  },
  {
   "cell_type": "code",
   "execution_count": 18,
   "metadata": {},
   "outputs": [
    {
     "name": "stdout",
     "output_type": "stream",
     "text": [
      "62.84 67.94 66.44\n"
     ]
    }
   ],
   "source": [
    "a = 0\n",
    "b = 0\n",
    "c = 0\n",
    "for key in students:\n",
    "    a = a + students[key]['math score'] \n",
    "    b = b + students[key]['reading score']\n",
    "    c = c + students[key]['writing score']\n",
    "\n",
    "avg_a = a/len(students.keys())\n",
    "avg_b = b/len(students.keys())\n",
    "avg_c = c/len(students.keys())\n",
    "\n",
    "print(avg_a, avg_b, avg_c)"
   ]
  },
  {
   "cell_type": "markdown",
   "metadata": {},
   "source": [
    "#### 7. Найдите общую(т.е. не разделяя по предметам) среднюю оценку студентов принимающих ланч 'standard'. "
   ]
  },
  {
   "cell_type": "code",
   "execution_count": 20,
   "metadata": {},
   "outputs": [
    {
     "name": "stdout",
     "output_type": "stream",
     "text": [
      "209.15625\n"
     ]
    }
   ],
   "source": [
    "d = 0\n",
    "e = 0\n",
    "for key in students:\n",
    "    if students[key]['lunch'] == 'standard':\n",
    "        e = e + 1\n",
    "        d = d + students[key]['math score'] + students[key]['reading score'] + students[key]['writing score']\n",
    "avg_d = d/e\n",
    "print(avg_d)"
   ]
  },
  {
   "cell_type": "markdown",
   "metadata": {},
   "source": [
    "#### 8. Кто в среднем имеет больший балл по чтению, мальчики или девочки?"
   ]
  },
  {
   "cell_type": "code",
   "execution_count": 23,
   "metadata": {},
   "outputs": [
    {
     "name": "stdout",
     "output_type": "stream",
     "text": [
      "Девушки 71.25925925925925\n"
     ]
    }
   ],
   "source": [
    "g = 0\n",
    "h = 0\n",
    "for key in students:\n",
    "    if students[key]['gender'] == 'male':\n",
    "        g = g + students[key]['reading score']\n",
    "    else:\n",
    "        h = h + students[key]['reading score']\n",
    "if g/m > h/f:\n",
    "    print('Мальчики', g/m)\n",
    "else:\n",
    "    print('Девушки', h/f)"
   ]
  },
  {
   "cell_type": "markdown",
   "metadata": {},
   "source": [
    "#### 9. Сколько всего рас представлено в выборке?"
   ]
  },
  {
   "cell_type": "code",
   "execution_count": 27,
   "metadata": {},
   "outputs": [
    {
     "name": "stdout",
     "output_type": "stream",
     "text": [
      "5\n"
     ]
    }
   ],
   "source": [
    "r = 0\n",
    "race = []\n",
    "for key in students:\n",
    "    if students[key]['race/ethnicity'] not in race:\n",
    "        race.append(students[key]['race/ethnicity'])\n",
    "print(len(race))"
   ]
  },
  {
   "cell_type": "markdown",
   "metadata": {},
   "source": [
    "#### 10. Сколько стдентов имеют степень \"bachelor's degree\"?"
   ]
  },
  {
   "cell_type": "code",
   "execution_count": 28,
   "metadata": {},
   "outputs": [
    {
     "name": "stdout",
     "output_type": "stream",
     "text": [
      "3\n"
     ]
    }
   ],
   "source": [
    "bach = 0\n",
    "for key in students:\n",
    "    if students[key]['parental level of education'] == \"bachelor's degree\":\n",
    "        bach = bach + 1\n",
    "print(bach)"
   ]
  },
  {
   "cell_type": "code",
   "execution_count": 32,
   "metadata": {},
   "outputs": [
    {
     "name": "stdout",
     "output_type": "stream",
     "text": [
      "bachelor's degree 3\n",
      "some college 13\n",
      "master's degree 6\n",
      "associate's degree 16\n",
      "high school 8\n",
      "some high school 4\n"
     ]
    }
   ],
   "source": [
    "#посчитать количество студентов по каждой степени образования \n",
    "#и составить словари из степеней образования и количества в них\n",
    "deg = {}\n",
    "degree = []\n",
    "for key in students:\n",
    "    if students[key]['parental level of education'] not in degree:\n",
    "        degree.append(students[key]['parental level of education'])\n",
    "for i in degree:\n",
    "    deg[i] = 0\n",
    "for key in students:\n",
    "    deg[students[key]['parental level of education']] += 1\n",
    "for key in deg:\n",
    "    print(key, deg[key])"
   ]
  },
  {
   "cell_type": "code",
   "execution_count": 33,
   "metadata": {},
   "outputs": [
    {
     "name": "stdout",
     "output_type": "stream",
     "text": [
      "50\n"
     ]
    }
   ],
   "source": [
    "s = 0\n",
    "for key in deg:\n",
    "    s += deg[key]\n",
    "print(s)"
   ]
  },
  {
   "cell_type": "code",
   "execution_count": 34,
   "metadata": {},
   "outputs": [
    {
     "data": {
      "text/plain": [
       "50"
      ]
     },
     "execution_count": 34,
     "metadata": {},
     "output_type": "execute_result"
    }
   ],
   "source": [
    "sum(deg.values())"
   ]
  },
  {
   "cell_type": "code",
   "execution_count": null,
   "metadata": {},
   "outputs": [],
   "source": []
  }
 ],
 "metadata": {
  "kernelspec": {
   "display_name": "Python 3",
   "language": "python",
   "name": "python3"
  },
  "language_info": {
   "codemirror_mode": {
    "name": "ipython",
    "version": 3
   },
   "file_extension": ".py",
   "mimetype": "text/x-python",
   "name": "python",
   "nbconvert_exporter": "python",
   "pygments_lexer": "ipython3",
   "version": "3.8.5"
  }
 },
 "nbformat": 4,
 "nbformat_minor": 4
}
